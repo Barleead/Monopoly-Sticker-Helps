{
  "nbformat": 4,
  "nbformat_minor": 0,
  "metadata": {
    "colab": {
      "provenance": [],
      "authorship_tag": "ABX9TyNnjJP3175H9vZHbUac4dBw",
      "include_colab_link": true
    },
    "kernelspec": {
      "name": "python3",
      "display_name": "Python 3"
    },
    "language_info": {
      "name": "python"
    }
  },
  "cells": [
    {
      "cell_type": "markdown",
      "metadata": {
        "id": "view-in-github",
        "colab_type": "text"
      },
      "source": [
        "<a href=\"https://colab.research.google.com/github/Barleead/Monopoly-Sticker-Helps/blob/main/Monopoly_Go.ipynb\" target=\"_parent\"><img src=\"https://colab.research.google.com/assets/colab-badge.svg\" alt=\"Open In Colab\"/></a>"
      ]
    },
    {
      "cell_type": "code",
      "execution_count": 20,
      "metadata": {
        "id": "17VbXbbOzy5E"
      },
      "outputs": [],
      "source": []
    },
    {
      "cell_type": "code",
      "source": [
        "import pandas as pd\n",
        "name = input(\"Please enter your name: \")\n",
        "print(\"Hello, \" + name + \"!\")\n",
        "choice = input(\"Would you like to edit your own (O) sticker list or help (H) someone else? Please enter H or O:\")\n",
        " #create function that can be called to search dataframe for name and display df for editing\n",
        "#if choice == H\n",
        "  # Help = input(\"Who would you like  to help?\")\n",
        "   #call function\n",
        "   #if found pulls that list for editiing\n",
        "   #if not found  print(\"I am sorry,\") + name + (\" There is no one with that name.\")\n",
        "# ask if player is done helping and then exit\n",
        "   #else\\\n",
        "   # if choice = O\n",
        "     #call function to search for name\n",
        "   #if name found pulls that list for editiing\n",
        "   #if not found  print(\"I am sorry,\") + name + (\" There is no one with that name.\")\n",
        "#end\n",
        "#run choice again\n",
        ""
      ],
      "metadata": {
        "id": "ckcRTOSUyWqy"
      },
      "execution_count": null,
      "outputs": []
    },
    {
      "cell_type": "markdown",
      "source": [
        "**Monopoly Go**\n",
        "Enter name of player\n",
        "\n",
        "   Do you want to help someone elseor edit your own sticker collection ?\n",
        "     \n",
        "     First run you will need to edit your own,\n",
        "    enter H  or E\n",
        "\n",
        "    *** should players just enter the ones they don't have or should the program offer all sticker names and let them edit each***\n",
        "\n",
        "\n",
        "       H  triggers question for name of player you want to help\n",
        "         pulls his/her database\n",
        "            asks which album (column)\n",
        "            shows requestor the Need/have for that set\n",
        "            lets you put your name after a need (so player knows you will be sending)\n",
        "\n",
        "            have a stop/exit\n",
        "                 \n",
        "      E triggers which album\n",
        "                  need vs have\n",
        "                   if need put N  want put H  (player will need to update on regular basis)\n",
        "                      when need = 0 album is removed from db  (need confirmation questions)\n",
        "\n",
        "                      have stop/exit option.\n",
        "\n",
        "\n",
        "\n",
        "\n",
        "\n",
        "      "
      ],
      "metadata": {
        "id": "Q2lAjQjdzz5l"
      }
    }
  ]
}